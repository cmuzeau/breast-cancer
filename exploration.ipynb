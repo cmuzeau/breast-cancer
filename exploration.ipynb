{
 "cells": [
  {
   "cell_type": "markdown",
   "id": "a50a5bce-dde5-48a5-ae24-4e7be452957f",
   "metadata": {},
   "source": [
    "# Breast cancer\n",
    "---"
   ]
  },
  {
   "cell_type": "code",
   "execution_count": null,
   "id": "124fae04-c90a-4395-b94e-9ed33c0ce963",
   "metadata": {},
   "outputs": [],
   "source": [
    "import numpy as np\n",
    "import pandas as pd\n",
    "import torch\n",
    "import torch.nn as nn\n",
    "from torch.nn import functional as F\n",
    "from sklearn import datasets"
   ]
  },
  {
   "cell_type": "code",
   "execution_count": null,
   "id": "a59d1dc4-b61c-44a5-b64f-86055e1ea57a",
   "metadata": {},
   "outputs": [],
   "source": [
    "def sigmoid(z):\n",
    "    return 1 / (1 + np.exp(-z))"
   ]
  },
  {
   "cell_type": "code",
   "execution_count": null,
   "id": "04731fd6-e460-44c7-a87f-3f2daa20cb2c",
   "metadata": {
    "scrolled": true
   },
   "outputs": [],
   "source": [
    "breast_cancer = datasets.load_breast_cancer(as_frame=True)\n",
    "print(breast_cancer.DESCR)"
   ]
  },
  {
   "cell_type": "code",
   "execution_count": null,
   "id": "474dd1b3-36f7-4d5f-aa54-89d48d3e85b0",
   "metadata": {
    "scrolled": true
   },
   "outputs": [],
   "source": [
    "breast_cancer.data.corr()"
   ]
  },
  {
   "cell_type": "code",
   "execution_count": null,
   "id": "d0f6cb96-1c1f-4aca-b650-9b7f6d10a6ef",
   "metadata": {},
   "outputs": [],
   "source": [
    "X = breast_cancer.data.values\n",
    "y = breast_cancer.target.values\n",
    "m, n = X.shape\n",
    "print(f\"{X.shape=}\")\n",
    "print(f\"{y.shape=}\")\n",
    "print(f\"{m=}\")\n",
    "print(f\"{n=}\")"
   ]
  },
  {
   "cell_type": "code",
   "execution_count": null,
   "id": "228a6e1e-861b-4c42-832e-1c9261e038b3",
   "metadata": {},
   "outputs": [],
   "source": [
    "y = y.reshape(-1, 1)\n",
    "print(f\"{y.shape=}\")"
   ]
  },
  {
   "cell_type": "code",
   "execution_count": null,
   "id": "22feebf1-dc90-48cc-9e99-46ab41a69fc0",
   "metadata": {},
   "outputs": [],
   "source": [
    "np.random.seed(0)\n",
    "w = np.random.randn(1, n)\n",
    "b = np.random.randn(1)"
   ]
  },
  {
   "cell_type": "code",
   "execution_count": null,
   "id": "88762a95-9b4b-468d-bd73-35fdc04079b8",
   "metadata": {
    "scrolled": true
   },
   "outputs": [],
   "source": [
    "def linear_combination(w, b, X):\n",
    "    return X @ w.T + b\n",
    "\n",
    "def model(w, b, X):\n",
    "    return sigmoid(linear_combination(w, b, X))"
   ]
  },
  {
   "cell_type": "markdown",
   "id": "64d2805b-ebc7-4562-b3c4-65d34b285d8f",
   "metadata": {},
   "source": [
    "The values resulting from the matrix multiplication are huge and when they get inputed into the sigmoid, they saturate:"
   ]
  },
  {
   "cell_type": "code",
   "execution_count": null,
   "id": "ee91e0a8-5712-4bcb-9f5b-89f55e875158",
   "metadata": {},
   "outputs": [],
   "source": [
    "model(w, b, X)[:10]"
   ]
  },
  {
   "cell_type": "markdown",
   "id": "eba4161e-21b5-41e0-b25f-60f114729a84",
   "metadata": {},
   "source": [
    "We know that the weights are drawn from a normal distribution, thus, they have mean of 0 and standard deviation of 1. Despite the weights being close to 0, the linear combination outputs huge values, therefore it is because the input features are already very huge which we can check by examining the mean of each feature:"
   ]
  },
  {
   "cell_type": "code",
   "execution_count": null,
   "id": "225e18e6-30ae-497b-b4e5-d91ca1ebd9cb",
   "metadata": {},
   "outputs": [],
   "source": [
    "breast_cancer.data.describe().loc[\"mean\"]"
   ]
  },
  {
   "cell_type": "markdown",
   "id": "a5602b9b-0d29-485e-b07b-73f5585ef37f",
   "metadata": {},
   "source": [
    "**We need to normalize our input features.**"
   ]
  },
  {
   "cell_type": "code",
   "execution_count": null,
   "id": "e9e0e681-0760-4499-81df-b740210acfc3",
   "metadata": {},
   "outputs": [],
   "source": [
    "X = (X - X.mean(axis=0, keepdims=True)) / X.std(axis=0, keepdims=True)"
   ]
  },
  {
   "cell_type": "code",
   "execution_count": null,
   "id": "99998805-9da4-4dcc-8a7f-39481ab1f62e",
   "metadata": {},
   "outputs": [],
   "source": [
    "(X @ w.T)[:10]"
   ]
  },
  {
   "cell_type": "code",
   "execution_count": null,
   "id": "46fc890d-f882-44bc-846a-0ca3233562bb",
   "metadata": {},
   "outputs": [],
   "source": [
    "model(w, b, X)[:10]"
   ]
  },
  {
   "cell_type": "markdown",
   "id": "f128f144-cb7b-48b2-b2c2-ef1cdbbff4c1",
   "metadata": {},
   "source": [
    "Much better, the model will be able to learn."
   ]
  },
  {
   "cell_type": "code",
   "execution_count": null,
   "id": "70498207-2150-4887-b197-c870a8a13019",
   "metadata": {},
   "outputs": [],
   "source": [
    "output = model(w, b, X)\n",
    "nll = - sum(y * np.log(output) + (1-y) * np.log(1-output)) / m\n",
    "print(f\"negative log likelihood = {nll.item():.3f}\")"
   ]
  },
  {
   "cell_type": "code",
   "execution_count": null,
   "id": "2c332a18-c180-436e-ac13-4df105079829",
   "metadata": {},
   "outputs": [],
   "source": [
    "linear = nn.Linear(n, 1)\n",
    "linear.weight = nn.Parameter(torch.from_numpy(w))\n",
    "linear.bias = nn.Parameter(torch.from_numpy(b))\n",
    "\n",
    "output_ = torch.sigmoid(linear(torch.from_numpy(X)))\n",
    "\n",
    "loss = F.binary_cross_entropy(output_, torch.from_numpy(y.astype(np.float64)))\n",
    "print(f\"nll from pytorch: {loss.item():.3f}\")"
   ]
  },
  {
   "cell_type": "code",
   "execution_count": null,
   "id": "fce5b7d5-cb2b-4422-8365-6ab8128dbb4e",
   "metadata": {},
   "outputs": [],
   "source": [
    "np.random.seed(0)\n",
    "w = np.random.randn(1, n)\n",
    "b = np.random.randn(1)\n",
    "\n",
    "losses = []\n",
    "for i in range(300):\n",
    "    output = model(w, b, X)\n",
    "    nll = - sum(y * np.log(output) + (1-y) * np.log(1-output)) / m\n",
    "\n",
    "    dw = (1/m) * np.dot(X.T, (output - y))\n",
    "    db = (1/m) * np.sum(output - y)\n",
    "\n",
    "    w -= .1 * dw.T\n",
    "    b -= .1 * db.T\n",
    "    losses.append(nll)\n",
    "\n",
    "pd.DataFrame(losses).plot();"
   ]
  }
 ],
 "metadata": {
  "kernelspec": {
   "display_name": "Python 3 (ipykernel)",
   "language": "python",
   "name": "python3"
  },
  "language_info": {
   "codemirror_mode": {
    "name": "ipython",
    "version": 3
   },
   "file_extension": ".py",
   "mimetype": "text/x-python",
   "name": "python",
   "nbconvert_exporter": "python",
   "pygments_lexer": "ipython3",
   "version": "3.11.2"
  }
 },
 "nbformat": 4,
 "nbformat_minor": 5
}
